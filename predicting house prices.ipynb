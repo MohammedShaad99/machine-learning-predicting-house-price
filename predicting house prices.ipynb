{
  "nbformat": 4,
  "nbformat_minor": 0,
  "metadata": {
    "colab": {
      "name": "linearregression-final.ipynb",
      "provenance": [],
      "collapsed_sections": []
    },
    "kernelspec": {
      "name": "python3",
      "display_name": "Python 3"
    },
    "language_info": {
      "name": "python"
    }
  },
  "cells": [
    {
      "cell_type": "markdown",
      "source": [
        "# Regression"
      ],
      "metadata": {
        "id": "SxxEFN2Cy8iq"
      }
    },
    {
      "cell_type": "code",
      "execution_count": 45,
      "metadata": {
        "id": "2gJCud1dsxhd"
      },
      "outputs": [],
      "source": [
        "import pandas as pd\n",
        "from google.colab import drive "
      ]
    },
    {
      "cell_type": "markdown",
      "source": [
        "# A glimpse of the dataset"
      ],
      "metadata": {
        "id": "Brt3XcWAb4oB"
      }
    },
    {
      "cell_type": "code",
      "source": [
        "testdf = pd.read_csv('/content/drive/MyDrive/machinelearning data sets/datasetsCW/real-state/final realestate/test_full_Real-estate.csv')\n",
        "traindf = pd.read_csv('/content/drive/MyDrive/machinelearning data sets/datasetsCW/real-state/final realestate/train_full_Real-estate.csv')\n",
        "traindf=traindf.drop('No',axis='columns')\n",
        "testdf=testdf.drop('No',axis='columns')\n",
        "traindf"
      ],
      "metadata": {
        "colab": {
          "base_uri": "https://localhost:8080/",
          "height": 485
        },
        "id": "B37lCi8euDhm",
        "outputId": "a97ffad3-27eb-4049-c186-f3a2e09b3eaa"
      },
      "execution_count": 46,
      "outputs": [
        {
          "output_type": "execute_result",
          "data": {
            "text/plain": [
              "     X1 transaction date  X2 house age  \\\n",
              "0               2012.833           3.4   \n",
              "1               2013.083          12.8   \n",
              "2               2013.083          41.4   \n",
              "3               2013.417          13.6   \n",
              "4               2013.167           3.6   \n",
              "..                   ...           ...   \n",
              "296             2013.333          16.4   \n",
              "297             2013.417           9.9   \n",
              "298             2013.500          16.4   \n",
              "299             2013.083          42.7   \n",
              "300             2013.417          31.5   \n",
              "\n",
              "     X3 distance to the nearest MRT station  X4 number of convenience stores  \\\n",
              "0                                  56.47425                                7   \n",
              "1                                 732.85280                                0   \n",
              "2                                 281.20500                                8   \n",
              "3                                 492.23130                                5   \n",
              "4                                 373.83890                               10   \n",
              "..                                      ...                              ...   \n",
              "296                               289.32480                                5   \n",
              "297                              2102.42700                                3   \n",
              "298                              3780.59000                                0   \n",
              "299                               443.80200                                6   \n",
              "300                              5512.03800                                1   \n",
              "\n",
              "     X5 latitude  X6 longitude  Y house price of unit area  \n",
              "0       24.95744     121.53711                        54.4  \n",
              "1       24.97668     121.52518                        40.6  \n",
              "2       24.97345     121.54093                        63.3  \n",
              "3       24.96515     121.53737                        43.8  \n",
              "4       24.98322     121.53765                        61.9  \n",
              "..           ...           ...                         ...  \n",
              "296     24.98203     121.54348                        41.2  \n",
              "297     24.96044     121.51462                        23.1  \n",
              "298     24.93293     121.51203                        45.1  \n",
              "299     24.97927     121.53874                        35.3  \n",
              "300     24.95095     121.48458                        17.4  \n",
              "\n",
              "[301 rows x 7 columns]"
            ],
            "text/html": [
              "\n",
              "  <div id=\"df-4b640a00-bf96-4ef4-afcb-d16388df5afa\">\n",
              "    <div class=\"colab-df-container\">\n",
              "      <div>\n",
              "<style scoped>\n",
              "    .dataframe tbody tr th:only-of-type {\n",
              "        vertical-align: middle;\n",
              "    }\n",
              "\n",
              "    .dataframe tbody tr th {\n",
              "        vertical-align: top;\n",
              "    }\n",
              "\n",
              "    .dataframe thead th {\n",
              "        text-align: right;\n",
              "    }\n",
              "</style>\n",
              "<table border=\"1\" class=\"dataframe\">\n",
              "  <thead>\n",
              "    <tr style=\"text-align: right;\">\n",
              "      <th></th>\n",
              "      <th>X1 transaction date</th>\n",
              "      <th>X2 house age</th>\n",
              "      <th>X3 distance to the nearest MRT station</th>\n",
              "      <th>X4 number of convenience stores</th>\n",
              "      <th>X5 latitude</th>\n",
              "      <th>X6 longitude</th>\n",
              "      <th>Y house price of unit area</th>\n",
              "    </tr>\n",
              "  </thead>\n",
              "  <tbody>\n",
              "    <tr>\n",
              "      <th>0</th>\n",
              "      <td>2012.833</td>\n",
              "      <td>3.4</td>\n",
              "      <td>56.47425</td>\n",
              "      <td>7</td>\n",
              "      <td>24.95744</td>\n",
              "      <td>121.53711</td>\n",
              "      <td>54.4</td>\n",
              "    </tr>\n",
              "    <tr>\n",
              "      <th>1</th>\n",
              "      <td>2013.083</td>\n",
              "      <td>12.8</td>\n",
              "      <td>732.85280</td>\n",
              "      <td>0</td>\n",
              "      <td>24.97668</td>\n",
              "      <td>121.52518</td>\n",
              "      <td>40.6</td>\n",
              "    </tr>\n",
              "    <tr>\n",
              "      <th>2</th>\n",
              "      <td>2013.083</td>\n",
              "      <td>41.4</td>\n",
              "      <td>281.20500</td>\n",
              "      <td>8</td>\n",
              "      <td>24.97345</td>\n",
              "      <td>121.54093</td>\n",
              "      <td>63.3</td>\n",
              "    </tr>\n",
              "    <tr>\n",
              "      <th>3</th>\n",
              "      <td>2013.417</td>\n",
              "      <td>13.6</td>\n",
              "      <td>492.23130</td>\n",
              "      <td>5</td>\n",
              "      <td>24.96515</td>\n",
              "      <td>121.53737</td>\n",
              "      <td>43.8</td>\n",
              "    </tr>\n",
              "    <tr>\n",
              "      <th>4</th>\n",
              "      <td>2013.167</td>\n",
              "      <td>3.6</td>\n",
              "      <td>373.83890</td>\n",
              "      <td>10</td>\n",
              "      <td>24.98322</td>\n",
              "      <td>121.53765</td>\n",
              "      <td>61.9</td>\n",
              "    </tr>\n",
              "    <tr>\n",
              "      <th>...</th>\n",
              "      <td>...</td>\n",
              "      <td>...</td>\n",
              "      <td>...</td>\n",
              "      <td>...</td>\n",
              "      <td>...</td>\n",
              "      <td>...</td>\n",
              "      <td>...</td>\n",
              "    </tr>\n",
              "    <tr>\n",
              "      <th>296</th>\n",
              "      <td>2013.333</td>\n",
              "      <td>16.4</td>\n",
              "      <td>289.32480</td>\n",
              "      <td>5</td>\n",
              "      <td>24.98203</td>\n",
              "      <td>121.54348</td>\n",
              "      <td>41.2</td>\n",
              "    </tr>\n",
              "    <tr>\n",
              "      <th>297</th>\n",
              "      <td>2013.417</td>\n",
              "      <td>9.9</td>\n",
              "      <td>2102.42700</td>\n",
              "      <td>3</td>\n",
              "      <td>24.96044</td>\n",
              "      <td>121.51462</td>\n",
              "      <td>23.1</td>\n",
              "    </tr>\n",
              "    <tr>\n",
              "      <th>298</th>\n",
              "      <td>2013.500</td>\n",
              "      <td>16.4</td>\n",
              "      <td>3780.59000</td>\n",
              "      <td>0</td>\n",
              "      <td>24.93293</td>\n",
              "      <td>121.51203</td>\n",
              "      <td>45.1</td>\n",
              "    </tr>\n",
              "    <tr>\n",
              "      <th>299</th>\n",
              "      <td>2013.083</td>\n",
              "      <td>42.7</td>\n",
              "      <td>443.80200</td>\n",
              "      <td>6</td>\n",
              "      <td>24.97927</td>\n",
              "      <td>121.53874</td>\n",
              "      <td>35.3</td>\n",
              "    </tr>\n",
              "    <tr>\n",
              "      <th>300</th>\n",
              "      <td>2013.417</td>\n",
              "      <td>31.5</td>\n",
              "      <td>5512.03800</td>\n",
              "      <td>1</td>\n",
              "      <td>24.95095</td>\n",
              "      <td>121.48458</td>\n",
              "      <td>17.4</td>\n",
              "    </tr>\n",
              "  </tbody>\n",
              "</table>\n",
              "<p>301 rows × 7 columns</p>\n",
              "</div>\n",
              "      <button class=\"colab-df-convert\" onclick=\"convertToInteractive('df-4b640a00-bf96-4ef4-afcb-d16388df5afa')\"\n",
              "              title=\"Convert this dataframe to an interactive table.\"\n",
              "              style=\"display:none;\">\n",
              "        \n",
              "  <svg xmlns=\"http://www.w3.org/2000/svg\" height=\"24px\"viewBox=\"0 0 24 24\"\n",
              "       width=\"24px\">\n",
              "    <path d=\"M0 0h24v24H0V0z\" fill=\"none\"/>\n",
              "    <path d=\"M18.56 5.44l.94 2.06.94-2.06 2.06-.94-2.06-.94-.94-2.06-.94 2.06-2.06.94zm-11 1L8.5 8.5l.94-2.06 2.06-.94-2.06-.94L8.5 2.5l-.94 2.06-2.06.94zm10 10l.94 2.06.94-2.06 2.06-.94-2.06-.94-.94-2.06-.94 2.06-2.06.94z\"/><path d=\"M17.41 7.96l-1.37-1.37c-.4-.4-.92-.59-1.43-.59-.52 0-1.04.2-1.43.59L10.3 9.45l-7.72 7.72c-.78.78-.78 2.05 0 2.83L4 21.41c.39.39.9.59 1.41.59.51 0 1.02-.2 1.41-.59l7.78-7.78 2.81-2.81c.8-.78.8-2.07 0-2.86zM5.41 20L4 18.59l7.72-7.72 1.47 1.35L5.41 20z\"/>\n",
              "  </svg>\n",
              "      </button>\n",
              "      \n",
              "  <style>\n",
              "    .colab-df-container {\n",
              "      display:flex;\n",
              "      flex-wrap:wrap;\n",
              "      gap: 12px;\n",
              "    }\n",
              "\n",
              "    .colab-df-convert {\n",
              "      background-color: #E8F0FE;\n",
              "      border: none;\n",
              "      border-radius: 50%;\n",
              "      cursor: pointer;\n",
              "      display: none;\n",
              "      fill: #1967D2;\n",
              "      height: 32px;\n",
              "      padding: 0 0 0 0;\n",
              "      width: 32px;\n",
              "    }\n",
              "\n",
              "    .colab-df-convert:hover {\n",
              "      background-color: #E2EBFA;\n",
              "      box-shadow: 0px 1px 2px rgba(60, 64, 67, 0.3), 0px 1px 3px 1px rgba(60, 64, 67, 0.15);\n",
              "      fill: #174EA6;\n",
              "    }\n",
              "\n",
              "    [theme=dark] .colab-df-convert {\n",
              "      background-color: #3B4455;\n",
              "      fill: #D2E3FC;\n",
              "    }\n",
              "\n",
              "    [theme=dark] .colab-df-convert:hover {\n",
              "      background-color: #434B5C;\n",
              "      box-shadow: 0px 1px 3px 1px rgba(0, 0, 0, 0.15);\n",
              "      filter: drop-shadow(0px 1px 2px rgba(0, 0, 0, 0.3));\n",
              "      fill: #FFFFFF;\n",
              "    }\n",
              "  </style>\n",
              "\n",
              "      <script>\n",
              "        const buttonEl =\n",
              "          document.querySelector('#df-4b640a00-bf96-4ef4-afcb-d16388df5afa button.colab-df-convert');\n",
              "        buttonEl.style.display =\n",
              "          google.colab.kernel.accessAllowed ? 'block' : 'none';\n",
              "\n",
              "        async function convertToInteractive(key) {\n",
              "          const element = document.querySelector('#df-4b640a00-bf96-4ef4-afcb-d16388df5afa');\n",
              "          const dataTable =\n",
              "            await google.colab.kernel.invokeFunction('convertToInteractive',\n",
              "                                                     [key], {});\n",
              "          if (!dataTable) return;\n",
              "\n",
              "          const docLinkHtml = 'Like what you see? Visit the ' +\n",
              "            '<a target=\"_blank\" href=https://colab.research.google.com/notebooks/data_table.ipynb>data table notebook</a>'\n",
              "            + ' to learn more about interactive tables.';\n",
              "          element.innerHTML = '';\n",
              "          dataTable['output_type'] = 'display_data';\n",
              "          await google.colab.output.renderOutput(dataTable, element);\n",
              "          const docLink = document.createElement('div');\n",
              "          docLink.innerHTML = docLinkHtml;\n",
              "          element.appendChild(docLink);\n",
              "        }\n",
              "      </script>\n",
              "    </div>\n",
              "  </div>\n",
              "  "
            ]
          },
          "metadata": {},
          "execution_count": 46
        }
      ]
    },
    {
      "cell_type": "code",
      "source": [
        "Ytrain=traindf['Y house price of unit area']\n",
        "Xtrain=traindf.drop('Y house price of unit area',axis='columns')\n",
        "Ytest=testdf['Y house price of unit area']\n",
        "Xtest=testdf.drop('Y house price of unit area',axis='columns')"
      ],
      "metadata": {
        "id": "XPhpX3xpxNra"
      },
      "execution_count": 47,
      "outputs": []
    },
    {
      "cell_type": "markdown",
      "source": [
        "# Initiliting the object for the linear regression model"
      ],
      "metadata": {
        "id": "SwXWVchrcOKa"
      }
    },
    {
      "cell_type": "code",
      "source": [
        "from sklearn import linear_model\n",
        "reg=linear_model.LinearRegression().fit(Xtrain,Ytrain)"
      ],
      "metadata": {
        "id": "EZZcohm_0KLa"
      },
      "execution_count": 48,
      "outputs": []
    },
    {
      "cell_type": "code",
      "source": [
        "predict=reg.predict(Xtest)"
      ],
      "metadata": {
        "id": "wZbDWyJNT-Pr"
      },
      "execution_count": 49,
      "outputs": []
    },
    {
      "cell_type": "markdown",
      "source": [
        "# Results for the predection of the linear regression\n",
        "Here it could be observed that the predicted values are not proper."
      ],
      "metadata": {
        "id": "5GnptLWTca5m"
      }
    },
    {
      "cell_type": "code",
      "source": [
        "testdf['Y Predicted house prices']=predict\n",
        "testdf"
      ],
      "metadata": {
        "colab": {
          "base_uri": "https://localhost:8080/",
          "height": 485
        },
        "id": "ASynH9vTUBeX",
        "outputId": "12b7a636-9d3d-4eac-d878-bbce739ca5a9"
      },
      "execution_count": 50,
      "outputs": [
        {
          "output_type": "execute_result",
          "data": {
            "text/plain": [
              "     X1 transaction date  X2 house age  \\\n",
              "0               2013.000          19.0   \n",
              "1               2012.833           5.9   \n",
              "2               2013.417          28.6   \n",
              "3               2013.167          13.3   \n",
              "4               2012.667          33.4   \n",
              "..                   ...           ...   \n",
              "108             2013.167          12.0   \n",
              "109             2013.500          15.2   \n",
              "110             2013.333           9.0   \n",
              "111             2012.833          31.7   \n",
              "112             2013.000          33.5   \n",
              "\n",
              "     X3 distance to the nearest MRT station  X4 number of convenience stores  \\\n",
              "0                                1009.23500                                0   \n",
              "1                                  90.45606                                9   \n",
              "2                                 197.13380                                6   \n",
              "3                                 492.23130                                5   \n",
              "4                                 186.96860                                6   \n",
              "..                                      ...                              ...   \n",
              "108                              1360.13900                                1   \n",
              "109                              3771.89500                                0   \n",
              "110                              1402.01600                                0   \n",
              "111                              1160.63200                                0   \n",
              "112                               563.28540                                8   \n",
              "\n",
              "     X5 latitude  X6 longitude  Y house price of unit area  \\\n",
              "0       24.96357     121.54951                        22.3   \n",
              "1       24.97433     121.54310                        52.7   \n",
              "2       24.97631     121.54436                        42.5   \n",
              "3       24.96515     121.53737                        31.3   \n",
              "4       24.96604     121.54211                        42.2   \n",
              "..           ...           ...                         ...   \n",
              "108     24.95204     121.54842                        25.3   \n",
              "109     24.93363     121.51158                        29.3   \n",
              "110     24.98569     121.52760                        38.5   \n",
              "111     24.94968     121.53009                        13.7   \n",
              "112     24.98223     121.53597                        46.6   \n",
              "\n",
              "     Y Predicted house prices  \n",
              "0                   30.699917  \n",
              "1                   51.543201  \n",
              "2                   44.210394  \n",
              "3                   42.451150  \n",
              "4                   36.744851  \n",
              "..                        ...  \n",
              "108                 30.544605  \n",
              "109                 15.624195  \n",
              "110                 39.180673  \n",
              "111                 22.871424  \n",
              "112                 42.933466  \n",
              "\n",
              "[113 rows x 8 columns]"
            ],
            "text/html": [
              "\n",
              "  <div id=\"df-a410e4e2-04a9-41f3-bb11-90f2d967d768\">\n",
              "    <div class=\"colab-df-container\">\n",
              "      <div>\n",
              "<style scoped>\n",
              "    .dataframe tbody tr th:only-of-type {\n",
              "        vertical-align: middle;\n",
              "    }\n",
              "\n",
              "    .dataframe tbody tr th {\n",
              "        vertical-align: top;\n",
              "    }\n",
              "\n",
              "    .dataframe thead th {\n",
              "        text-align: right;\n",
              "    }\n",
              "</style>\n",
              "<table border=\"1\" class=\"dataframe\">\n",
              "  <thead>\n",
              "    <tr style=\"text-align: right;\">\n",
              "      <th></th>\n",
              "      <th>X1 transaction date</th>\n",
              "      <th>X2 house age</th>\n",
              "      <th>X3 distance to the nearest MRT station</th>\n",
              "      <th>X4 number of convenience stores</th>\n",
              "      <th>X5 latitude</th>\n",
              "      <th>X6 longitude</th>\n",
              "      <th>Y house price of unit area</th>\n",
              "      <th>Y Predicted house prices</th>\n",
              "    </tr>\n",
              "  </thead>\n",
              "  <tbody>\n",
              "    <tr>\n",
              "      <th>0</th>\n",
              "      <td>2013.000</td>\n",
              "      <td>19.0</td>\n",
              "      <td>1009.23500</td>\n",
              "      <td>0</td>\n",
              "      <td>24.96357</td>\n",
              "      <td>121.54951</td>\n",
              "      <td>22.3</td>\n",
              "      <td>30.699917</td>\n",
              "    </tr>\n",
              "    <tr>\n",
              "      <th>1</th>\n",
              "      <td>2012.833</td>\n",
              "      <td>5.9</td>\n",
              "      <td>90.45606</td>\n",
              "      <td>9</td>\n",
              "      <td>24.97433</td>\n",
              "      <td>121.54310</td>\n",
              "      <td>52.7</td>\n",
              "      <td>51.543201</td>\n",
              "    </tr>\n",
              "    <tr>\n",
              "      <th>2</th>\n",
              "      <td>2013.417</td>\n",
              "      <td>28.6</td>\n",
              "      <td>197.13380</td>\n",
              "      <td>6</td>\n",
              "      <td>24.97631</td>\n",
              "      <td>121.54436</td>\n",
              "      <td>42.5</td>\n",
              "      <td>44.210394</td>\n",
              "    </tr>\n",
              "    <tr>\n",
              "      <th>3</th>\n",
              "      <td>2013.167</td>\n",
              "      <td>13.3</td>\n",
              "      <td>492.23130</td>\n",
              "      <td>5</td>\n",
              "      <td>24.96515</td>\n",
              "      <td>121.53737</td>\n",
              "      <td>31.3</td>\n",
              "      <td>42.451150</td>\n",
              "    </tr>\n",
              "    <tr>\n",
              "      <th>4</th>\n",
              "      <td>2012.667</td>\n",
              "      <td>33.4</td>\n",
              "      <td>186.96860</td>\n",
              "      <td>6</td>\n",
              "      <td>24.96604</td>\n",
              "      <td>121.54211</td>\n",
              "      <td>42.2</td>\n",
              "      <td>36.744851</td>\n",
              "    </tr>\n",
              "    <tr>\n",
              "      <th>...</th>\n",
              "      <td>...</td>\n",
              "      <td>...</td>\n",
              "      <td>...</td>\n",
              "      <td>...</td>\n",
              "      <td>...</td>\n",
              "      <td>...</td>\n",
              "      <td>...</td>\n",
              "      <td>...</td>\n",
              "    </tr>\n",
              "    <tr>\n",
              "      <th>108</th>\n",
              "      <td>2013.167</td>\n",
              "      <td>12.0</td>\n",
              "      <td>1360.13900</td>\n",
              "      <td>1</td>\n",
              "      <td>24.95204</td>\n",
              "      <td>121.54842</td>\n",
              "      <td>25.3</td>\n",
              "      <td>30.544605</td>\n",
              "    </tr>\n",
              "    <tr>\n",
              "      <th>109</th>\n",
              "      <td>2013.500</td>\n",
              "      <td>15.2</td>\n",
              "      <td>3771.89500</td>\n",
              "      <td>0</td>\n",
              "      <td>24.93363</td>\n",
              "      <td>121.51158</td>\n",
              "      <td>29.3</td>\n",
              "      <td>15.624195</td>\n",
              "    </tr>\n",
              "    <tr>\n",
              "      <th>110</th>\n",
              "      <td>2013.333</td>\n",
              "      <td>9.0</td>\n",
              "      <td>1402.01600</td>\n",
              "      <td>0</td>\n",
              "      <td>24.98569</td>\n",
              "      <td>121.52760</td>\n",
              "      <td>38.5</td>\n",
              "      <td>39.180673</td>\n",
              "    </tr>\n",
              "    <tr>\n",
              "      <th>111</th>\n",
              "      <td>2012.833</td>\n",
              "      <td>31.7</td>\n",
              "      <td>1160.63200</td>\n",
              "      <td>0</td>\n",
              "      <td>24.94968</td>\n",
              "      <td>121.53009</td>\n",
              "      <td>13.7</td>\n",
              "      <td>22.871424</td>\n",
              "    </tr>\n",
              "    <tr>\n",
              "      <th>112</th>\n",
              "      <td>2013.000</td>\n",
              "      <td>33.5</td>\n",
              "      <td>563.28540</td>\n",
              "      <td>8</td>\n",
              "      <td>24.98223</td>\n",
              "      <td>121.53597</td>\n",
              "      <td>46.6</td>\n",
              "      <td>42.933466</td>\n",
              "    </tr>\n",
              "  </tbody>\n",
              "</table>\n",
              "<p>113 rows × 8 columns</p>\n",
              "</div>\n",
              "      <button class=\"colab-df-convert\" onclick=\"convertToInteractive('df-a410e4e2-04a9-41f3-bb11-90f2d967d768')\"\n",
              "              title=\"Convert this dataframe to an interactive table.\"\n",
              "              style=\"display:none;\">\n",
              "        \n",
              "  <svg xmlns=\"http://www.w3.org/2000/svg\" height=\"24px\"viewBox=\"0 0 24 24\"\n",
              "       width=\"24px\">\n",
              "    <path d=\"M0 0h24v24H0V0z\" fill=\"none\"/>\n",
              "    <path d=\"M18.56 5.44l.94 2.06.94-2.06 2.06-.94-2.06-.94-.94-2.06-.94 2.06-2.06.94zm-11 1L8.5 8.5l.94-2.06 2.06-.94-2.06-.94L8.5 2.5l-.94 2.06-2.06.94zm10 10l.94 2.06.94-2.06 2.06-.94-2.06-.94-.94-2.06-.94 2.06-2.06.94z\"/><path d=\"M17.41 7.96l-1.37-1.37c-.4-.4-.92-.59-1.43-.59-.52 0-1.04.2-1.43.59L10.3 9.45l-7.72 7.72c-.78.78-.78 2.05 0 2.83L4 21.41c.39.39.9.59 1.41.59.51 0 1.02-.2 1.41-.59l7.78-7.78 2.81-2.81c.8-.78.8-2.07 0-2.86zM5.41 20L4 18.59l7.72-7.72 1.47 1.35L5.41 20z\"/>\n",
              "  </svg>\n",
              "      </button>\n",
              "      \n",
              "  <style>\n",
              "    .colab-df-container {\n",
              "      display:flex;\n",
              "      flex-wrap:wrap;\n",
              "      gap: 12px;\n",
              "    }\n",
              "\n",
              "    .colab-df-convert {\n",
              "      background-color: #E8F0FE;\n",
              "      border: none;\n",
              "      border-radius: 50%;\n",
              "      cursor: pointer;\n",
              "      display: none;\n",
              "      fill: #1967D2;\n",
              "      height: 32px;\n",
              "      padding: 0 0 0 0;\n",
              "      width: 32px;\n",
              "    }\n",
              "\n",
              "    .colab-df-convert:hover {\n",
              "      background-color: #E2EBFA;\n",
              "      box-shadow: 0px 1px 2px rgba(60, 64, 67, 0.3), 0px 1px 3px 1px rgba(60, 64, 67, 0.15);\n",
              "      fill: #174EA6;\n",
              "    }\n",
              "\n",
              "    [theme=dark] .colab-df-convert {\n",
              "      background-color: #3B4455;\n",
              "      fill: #D2E3FC;\n",
              "    }\n",
              "\n",
              "    [theme=dark] .colab-df-convert:hover {\n",
              "      background-color: #434B5C;\n",
              "      box-shadow: 0px 1px 3px 1px rgba(0, 0, 0, 0.15);\n",
              "      filter: drop-shadow(0px 1px 2px rgba(0, 0, 0, 0.3));\n",
              "      fill: #FFFFFF;\n",
              "    }\n",
              "  </style>\n",
              "\n",
              "      <script>\n",
              "        const buttonEl =\n",
              "          document.querySelector('#df-a410e4e2-04a9-41f3-bb11-90f2d967d768 button.colab-df-convert');\n",
              "        buttonEl.style.display =\n",
              "          google.colab.kernel.accessAllowed ? 'block' : 'none';\n",
              "\n",
              "        async function convertToInteractive(key) {\n",
              "          const element = document.querySelector('#df-a410e4e2-04a9-41f3-bb11-90f2d967d768');\n",
              "          const dataTable =\n",
              "            await google.colab.kernel.invokeFunction('convertToInteractive',\n",
              "                                                     [key], {});\n",
              "          if (!dataTable) return;\n",
              "\n",
              "          const docLinkHtml = 'Like what you see? Visit the ' +\n",
              "            '<a target=\"_blank\" href=https://colab.research.google.com/notebooks/data_table.ipynb>data table notebook</a>'\n",
              "            + ' to learn more about interactive tables.';\n",
              "          element.innerHTML = '';\n",
              "          dataTable['output_type'] = 'display_data';\n",
              "          await google.colab.output.renderOutput(dataTable, element);\n",
              "          const docLink = document.createElement('div');\n",
              "          docLink.innerHTML = docLinkHtml;\n",
              "          element.appendChild(docLink);\n",
              "        }\n",
              "      </script>\n",
              "    </div>\n",
              "  </div>\n",
              "  "
            ]
          },
          "metadata": {},
          "execution_count": 50
        }
      ]
    },
    {
      "cell_type": "markdown",
      "source": [
        "# Storing the value to .csv file"
      ],
      "metadata": {
        "id": "F31LVLHUc8cO"
      }
    },
    {
      "cell_type": "code",
      "source": [
        "testdf.to_csv('/content/drive/MyDrive/machinelearning data sets/datasetsCW/real-state/final realestate/finalresult11.csv')"
      ],
      "metadata": {
        "id": "pvSAwEiVpu-w"
      },
      "execution_count": 51,
      "outputs": []
    },
    {
      "cell_type": "markdown",
      "source": [
        "Mean Absolute Error (MAE) is the mean of the absolute value of the errors:\n",
        "1n∑i=1n|yi−y^i|\n",
        " \n",
        "Mean Squared Error (MSE) is the mean of the squared errors:\n",
        "1n∑i=1n(yi−y^i)2\n",
        " \n",
        "Root Mean Squared Error (RMSE) is the square root of the mean of the squared errors:\n",
        "1n∑i=1n(yi−y^i)2−−−−−−−−−−−−"
      ],
      "metadata": {
        "id": "QN-7TulQY2uU"
      }
    },
    {
      "cell_type": "markdown",
      "source": [
        "# Calculating the RootMeanSquaredError for linear regression"
      ],
      "metadata": {
        "id": "0BZM-8-KbdqW"
      }
    },
    {
      "cell_type": "code",
      "source": [
        "from sklearn.metrics import mean_squared_error \n",
        "rsme1=mean_squared_error(Ytest,predict,squared=False)\n",
        "print('RSME = ',rsme1)"
      ],
      "metadata": {
        "colab": {
          "base_uri": "https://localhost:8080/"
        },
        "id": "za5UCN2yW9op",
        "outputId": "277a968d-4171-4794-844f-1d76981c61da"
      },
      "execution_count": 52,
      "outputs": [
        {
          "output_type": "stream",
          "name": "stdout",
          "text": [
            "RSME =  8.501078429154608\n"
          ]
        }
      ]
    },
    {
      "cell_type": "markdown",
      "source": [
        "# Pre-processing"
      ],
      "metadata": {
        "id": "e2EL11zhyr1Z"
      }
    },
    {
      "cell_type": "markdown",
      "source": [
        "Classifying the priceses of the houses into expensive and affordable.\n",
        "\n",
        "Initially, 0 is applied to all the values and if the price of the house is greater than 30 then its expensive and is converted to 1.\n",
        "Also, we of the irrelevant columns are droped."
      ],
      "metadata": {
        "id": "nLEKTxI7Y-rC"
      }
    },
    {
      "cell_type": "code",
      "source": [
        "traindf['Y']=0\n",
        "testdf['Y']=0\n",
        "traindf.loc[traindf['Y house price of unit area'] > 30, 'Y'] = 1 \n",
        "testdf.loc[testdf['Y house price of unit area'] > 30, 'Y'] = 1 \n",
        "Y1=testdf.Y\n",
        "testdf=testdf.drop('Y',axis='columns')\n",
        "testdf=testdf.drop('Y house price of unit area',axis='columns')\n",
        "Y=traindf.Y\n",
        "traindf=traindf.drop('Y',axis='columns')\n",
        "traindf=traindf.drop('Y house price of unit area',axis='columns')"
      ],
      "metadata": {
        "id": "IoAVM99jEBF4"
      },
      "execution_count": 53,
      "outputs": []
    },
    {
      "cell_type": "markdown",
      "source": [
        "# Training the model with the help of Decision Tree Classifier"
      ],
      "metadata": {
        "id": "qxR-YT8AbNBO"
      }
    },
    {
      "cell_type": "code",
      "source": [
        "from sklearn import tree\n",
        "model=tree.DecisionTreeClassifier()\n",
        "model.fit(traindf,Y)\n"
      ],
      "metadata": {
        "colab": {
          "base_uri": "https://localhost:8080/"
        },
        "id": "Xmk5NShfF6ZT",
        "outputId": "c4807a39-3dcf-40af-82dd-f21e517d28c5"
      },
      "execution_count": 54,
      "outputs": [
        {
          "output_type": "execute_result",
          "data": {
            "text/plain": [
              "DecisionTreeClassifier()"
            ]
          },
          "metadata": {},
          "execution_count": 54
        }
      ]
    },
    {
      "cell_type": "markdown",
      "source": [
        ""
      ],
      "metadata": {
        "id": "Aps9xJgeYipI"
      }
    },
    {
      "cell_type": "markdown",
      "source": [
        "# Training the model with the help of Random Forest Classifier"
      ],
      "metadata": {
        "id": "lRxUE83pYne0"
      }
    },
    {
      "cell_type": "code",
      "source": [
        "from sklearn.ensemble import RandomForestClassifier\n",
        "rfc=RandomForestClassifier().fit(traindf,Y)\n"
      ],
      "metadata": {
        "id": "kR5hH7_yIefI"
      },
      "execution_count": 55,
      "outputs": []
    },
    {
      "cell_type": "markdown",
      "source": [
        "# Training the model with the help of Logical Regression"
      ],
      "metadata": {
        "id": "OpUysK1lYcIP"
      }
    },
    {
      "cell_type": "code",
      "source": [
        "from sklearn.linear_model import LinearRegression\n",
        "lr=LinearRegression().fit(traindf,Y)"
      ],
      "metadata": {
        "id": "-thpY_axI8kc"
      },
      "execution_count": 56,
      "outputs": []
    },
    {
      "cell_type": "markdown",
      "source": [
        "# Removing irrelevent columns"
      ],
      "metadata": {
        "id": "lyFejGhNafth"
      }
    },
    {
      "cell_type": "code",
      "source": [
        "testdf=testdf.drop('Y Predicted house prices',axis='columns')"
      ],
      "metadata": {
        "id": "gDJD4qQNGAtS"
      },
      "execution_count": 59,
      "outputs": []
    },
    {
      "cell_type": "code",
      "source": [
        "testdf"
      ],
      "metadata": {
        "colab": {
          "base_uri": "https://localhost:8080/",
          "height": 468
        },
        "id": "4eI4JJtUWqIK",
        "outputId": "e858e243-a602-4e0d-984a-42e3c2d5c749"
      },
      "execution_count": 60,
      "outputs": [
        {
          "output_type": "execute_result",
          "data": {
            "text/plain": [
              "     X1 transaction date  X2 house age  \\\n",
              "0               2013.000          19.0   \n",
              "1               2012.833           5.9   \n",
              "2               2013.417          28.6   \n",
              "3               2013.167          13.3   \n",
              "4               2012.667          33.4   \n",
              "..                   ...           ...   \n",
              "108             2013.167          12.0   \n",
              "109             2013.500          15.2   \n",
              "110             2013.333           9.0   \n",
              "111             2012.833          31.7   \n",
              "112             2013.000          33.5   \n",
              "\n",
              "     X3 distance to the nearest MRT station  X4 number of convenience stores  \\\n",
              "0                                1009.23500                                0   \n",
              "1                                  90.45606                                9   \n",
              "2                                 197.13380                                6   \n",
              "3                                 492.23130                                5   \n",
              "4                                 186.96860                                6   \n",
              "..                                      ...                              ...   \n",
              "108                              1360.13900                                1   \n",
              "109                              3771.89500                                0   \n",
              "110                              1402.01600                                0   \n",
              "111                              1160.63200                                0   \n",
              "112                               563.28540                                8   \n",
              "\n",
              "     X5 latitude  X6 longitude  \n",
              "0       24.96357     121.54951  \n",
              "1       24.97433     121.54310  \n",
              "2       24.97631     121.54436  \n",
              "3       24.96515     121.53737  \n",
              "4       24.96604     121.54211  \n",
              "..           ...           ...  \n",
              "108     24.95204     121.54842  \n",
              "109     24.93363     121.51158  \n",
              "110     24.98569     121.52760  \n",
              "111     24.94968     121.53009  \n",
              "112     24.98223     121.53597  \n",
              "\n",
              "[113 rows x 6 columns]"
            ],
            "text/html": [
              "\n",
              "  <div id=\"df-d1bef0dd-d8a3-4dc0-8efa-44fe8887273e\">\n",
              "    <div class=\"colab-df-container\">\n",
              "      <div>\n",
              "<style scoped>\n",
              "    .dataframe tbody tr th:only-of-type {\n",
              "        vertical-align: middle;\n",
              "    }\n",
              "\n",
              "    .dataframe tbody tr th {\n",
              "        vertical-align: top;\n",
              "    }\n",
              "\n",
              "    .dataframe thead th {\n",
              "        text-align: right;\n",
              "    }\n",
              "</style>\n",
              "<table border=\"1\" class=\"dataframe\">\n",
              "  <thead>\n",
              "    <tr style=\"text-align: right;\">\n",
              "      <th></th>\n",
              "      <th>X1 transaction date</th>\n",
              "      <th>X2 house age</th>\n",
              "      <th>X3 distance to the nearest MRT station</th>\n",
              "      <th>X4 number of convenience stores</th>\n",
              "      <th>X5 latitude</th>\n",
              "      <th>X6 longitude</th>\n",
              "    </tr>\n",
              "  </thead>\n",
              "  <tbody>\n",
              "    <tr>\n",
              "      <th>0</th>\n",
              "      <td>2013.000</td>\n",
              "      <td>19.0</td>\n",
              "      <td>1009.23500</td>\n",
              "      <td>0</td>\n",
              "      <td>24.96357</td>\n",
              "      <td>121.54951</td>\n",
              "    </tr>\n",
              "    <tr>\n",
              "      <th>1</th>\n",
              "      <td>2012.833</td>\n",
              "      <td>5.9</td>\n",
              "      <td>90.45606</td>\n",
              "      <td>9</td>\n",
              "      <td>24.97433</td>\n",
              "      <td>121.54310</td>\n",
              "    </tr>\n",
              "    <tr>\n",
              "      <th>2</th>\n",
              "      <td>2013.417</td>\n",
              "      <td>28.6</td>\n",
              "      <td>197.13380</td>\n",
              "      <td>6</td>\n",
              "      <td>24.97631</td>\n",
              "      <td>121.54436</td>\n",
              "    </tr>\n",
              "    <tr>\n",
              "      <th>3</th>\n",
              "      <td>2013.167</td>\n",
              "      <td>13.3</td>\n",
              "      <td>492.23130</td>\n",
              "      <td>5</td>\n",
              "      <td>24.96515</td>\n",
              "      <td>121.53737</td>\n",
              "    </tr>\n",
              "    <tr>\n",
              "      <th>4</th>\n",
              "      <td>2012.667</td>\n",
              "      <td>33.4</td>\n",
              "      <td>186.96860</td>\n",
              "      <td>6</td>\n",
              "      <td>24.96604</td>\n",
              "      <td>121.54211</td>\n",
              "    </tr>\n",
              "    <tr>\n",
              "      <th>...</th>\n",
              "      <td>...</td>\n",
              "      <td>...</td>\n",
              "      <td>...</td>\n",
              "      <td>...</td>\n",
              "      <td>...</td>\n",
              "      <td>...</td>\n",
              "    </tr>\n",
              "    <tr>\n",
              "      <th>108</th>\n",
              "      <td>2013.167</td>\n",
              "      <td>12.0</td>\n",
              "      <td>1360.13900</td>\n",
              "      <td>1</td>\n",
              "      <td>24.95204</td>\n",
              "      <td>121.54842</td>\n",
              "    </tr>\n",
              "    <tr>\n",
              "      <th>109</th>\n",
              "      <td>2013.500</td>\n",
              "      <td>15.2</td>\n",
              "      <td>3771.89500</td>\n",
              "      <td>0</td>\n",
              "      <td>24.93363</td>\n",
              "      <td>121.51158</td>\n",
              "    </tr>\n",
              "    <tr>\n",
              "      <th>110</th>\n",
              "      <td>2013.333</td>\n",
              "      <td>9.0</td>\n",
              "      <td>1402.01600</td>\n",
              "      <td>0</td>\n",
              "      <td>24.98569</td>\n",
              "      <td>121.52760</td>\n",
              "    </tr>\n",
              "    <tr>\n",
              "      <th>111</th>\n",
              "      <td>2012.833</td>\n",
              "      <td>31.7</td>\n",
              "      <td>1160.63200</td>\n",
              "      <td>0</td>\n",
              "      <td>24.94968</td>\n",
              "      <td>121.53009</td>\n",
              "    </tr>\n",
              "    <tr>\n",
              "      <th>112</th>\n",
              "      <td>2013.000</td>\n",
              "      <td>33.5</td>\n",
              "      <td>563.28540</td>\n",
              "      <td>8</td>\n",
              "      <td>24.98223</td>\n",
              "      <td>121.53597</td>\n",
              "    </tr>\n",
              "  </tbody>\n",
              "</table>\n",
              "<p>113 rows × 6 columns</p>\n",
              "</div>\n",
              "      <button class=\"colab-df-convert\" onclick=\"convertToInteractive('df-d1bef0dd-d8a3-4dc0-8efa-44fe8887273e')\"\n",
              "              title=\"Convert this dataframe to an interactive table.\"\n",
              "              style=\"display:none;\">\n",
              "        \n",
              "  <svg xmlns=\"http://www.w3.org/2000/svg\" height=\"24px\"viewBox=\"0 0 24 24\"\n",
              "       width=\"24px\">\n",
              "    <path d=\"M0 0h24v24H0V0z\" fill=\"none\"/>\n",
              "    <path d=\"M18.56 5.44l.94 2.06.94-2.06 2.06-.94-2.06-.94-.94-2.06-.94 2.06-2.06.94zm-11 1L8.5 8.5l.94-2.06 2.06-.94-2.06-.94L8.5 2.5l-.94 2.06-2.06.94zm10 10l.94 2.06.94-2.06 2.06-.94-2.06-.94-.94-2.06-.94 2.06-2.06.94z\"/><path d=\"M17.41 7.96l-1.37-1.37c-.4-.4-.92-.59-1.43-.59-.52 0-1.04.2-1.43.59L10.3 9.45l-7.72 7.72c-.78.78-.78 2.05 0 2.83L4 21.41c.39.39.9.59 1.41.59.51 0 1.02-.2 1.41-.59l7.78-7.78 2.81-2.81c.8-.78.8-2.07 0-2.86zM5.41 20L4 18.59l7.72-7.72 1.47 1.35L5.41 20z\"/>\n",
              "  </svg>\n",
              "      </button>\n",
              "      \n",
              "  <style>\n",
              "    .colab-df-container {\n",
              "      display:flex;\n",
              "      flex-wrap:wrap;\n",
              "      gap: 12px;\n",
              "    }\n",
              "\n",
              "    .colab-df-convert {\n",
              "      background-color: #E8F0FE;\n",
              "      border: none;\n",
              "      border-radius: 50%;\n",
              "      cursor: pointer;\n",
              "      display: none;\n",
              "      fill: #1967D2;\n",
              "      height: 32px;\n",
              "      padding: 0 0 0 0;\n",
              "      width: 32px;\n",
              "    }\n",
              "\n",
              "    .colab-df-convert:hover {\n",
              "      background-color: #E2EBFA;\n",
              "      box-shadow: 0px 1px 2px rgba(60, 64, 67, 0.3), 0px 1px 3px 1px rgba(60, 64, 67, 0.15);\n",
              "      fill: #174EA6;\n",
              "    }\n",
              "\n",
              "    [theme=dark] .colab-df-convert {\n",
              "      background-color: #3B4455;\n",
              "      fill: #D2E3FC;\n",
              "    }\n",
              "\n",
              "    [theme=dark] .colab-df-convert:hover {\n",
              "      background-color: #434B5C;\n",
              "      box-shadow: 0px 1px 3px 1px rgba(0, 0, 0, 0.15);\n",
              "      filter: drop-shadow(0px 1px 2px rgba(0, 0, 0, 0.3));\n",
              "      fill: #FFFFFF;\n",
              "    }\n",
              "  </style>\n",
              "\n",
              "      <script>\n",
              "        const buttonEl =\n",
              "          document.querySelector('#df-d1bef0dd-d8a3-4dc0-8efa-44fe8887273e button.colab-df-convert');\n",
              "        buttonEl.style.display =\n",
              "          google.colab.kernel.accessAllowed ? 'block' : 'none';\n",
              "\n",
              "        async function convertToInteractive(key) {\n",
              "          const element = document.querySelector('#df-d1bef0dd-d8a3-4dc0-8efa-44fe8887273e');\n",
              "          const dataTable =\n",
              "            await google.colab.kernel.invokeFunction('convertToInteractive',\n",
              "                                                     [key], {});\n",
              "          if (!dataTable) return;\n",
              "\n",
              "          const docLinkHtml = 'Like what you see? Visit the ' +\n",
              "            '<a target=\"_blank\" href=https://colab.research.google.com/notebooks/data_table.ipynb>data table notebook</a>'\n",
              "            + ' to learn more about interactive tables.';\n",
              "          element.innerHTML = '';\n",
              "          dataTable['output_type'] = 'display_data';\n",
              "          await google.colab.output.renderOutput(dataTable, element);\n",
              "          const docLink = document.createElement('div');\n",
              "          docLink.innerHTML = docLinkHtml;\n",
              "          element.appendChild(docLink);\n",
              "        }\n",
              "      </script>\n",
              "    </div>\n",
              "  </div>\n",
              "  "
            ]
          },
          "metadata": {},
          "execution_count": 60
        }
      ]
    },
    {
      "cell_type": "markdown",
      "source": [
        "# Predeicting and calculating the accuracy for Decision Tree Classifier"
      ],
      "metadata": {
        "id": "O0gO8mAqaTCq"
      }
    },
    {
      "cell_type": "code",
      "source": [
        "classification=model.predict(testdf)\n",
        "model.score(testdf,Y1)"
      ],
      "metadata": {
        "colab": {
          "base_uri": "https://localhost:8080/"
        },
        "id": "VYfZAbN_KAAV",
        "outputId": "5b5a1b5e-49bf-4dd0-ec5d-2913732bcfb4"
      },
      "execution_count": 61,
      "outputs": [
        {
          "output_type": "execute_result",
          "data": {
            "text/plain": [
              "0.8938053097345132"
            ]
          },
          "metadata": {},
          "execution_count": 61
        }
      ]
    },
    {
      "cell_type": "markdown",
      "source": [
        "# Result of using Random forest classifier"
      ],
      "metadata": {
        "id": "hYA5HOLuYNEL"
      }
    },
    {
      "cell_type": "code",
      "source": [
        "rfc.predict(testdf)\n",
        "rfc.score(testdf,Y1)"
      ],
      "metadata": {
        "colab": {
          "base_uri": "https://localhost:8080/"
        },
        "id": "_gnRUpZCIguG",
        "outputId": "36050f93-825c-4c04-dad5-2b39899a0e4c"
      },
      "execution_count": 62,
      "outputs": [
        {
          "output_type": "execute_result",
          "data": {
            "text/plain": [
              "0.911504424778761"
            ]
          },
          "metadata": {},
          "execution_count": 62
        }
      ]
    },
    {
      "cell_type": "markdown",
      "source": [
        "# Results of using Logical Regression"
      ],
      "metadata": {
        "id": "puBAiqOGYGzY"
      }
    },
    {
      "cell_type": "code",
      "source": [
        "lr.predict(testdf)\n",
        "lr.score(testdf,Y1)"
      ],
      "metadata": {
        "colab": {
          "base_uri": "https://localhost:8080/"
        },
        "id": "UYzfqv3sJGHi",
        "outputId": "1a0d1242-a5d4-47fc-dd2a-88e36b51f908"
      },
      "execution_count": 63,
      "outputs": [
        {
          "output_type": "execute_result",
          "data": {
            "text/plain": [
              "0.4847144917619929"
            ]
          },
          "metadata": {},
          "execution_count": 63
        }
      ]
    }
  ]
}